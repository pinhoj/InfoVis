{
 "cells": [
  {
   "cell_type": "markdown",
   "id": "1298c9fe",
   "metadata": {},
   "source": [
    "# Data cleaning and merging for the Viz Project"
   ]
  },
  {
   "cell_type": "code",
   "execution_count": null,
   "id": "ef7ea630",
   "metadata": {},
   "outputs": [],
   "source": [
    "import pandas as pd"
   ]
  },
  {
   "cell_type": "code",
   "execution_count": null,
   "id": "bb358881",
   "metadata": {},
   "outputs": [],
   "source": [
    "dogs = pd.read_csv('hunde-vie.csv', sep=';', skiprows=1)\n",
    "population_density = pd.read_csv('vie-bez-biz-pop-den-2002f.csv', sep=';', skiprows=1)\n",
    "population = pd.read_csv('vie-bez-pop-sex-age5-stk-ori-geo4-2002f.csv', sep=';', skiprows=1)\n",
    "dog_breeds = pd.read_csv('dog_breeds.csv', sep=',', skiprows=0)\n",
    "breeds_mapping = pd.read_csv('dog_mappings_two.csv', sep=',', skiprows=0)\n"
   ]
  },
  {
   "cell_type": "code",
   "execution_count": null,
   "id": "235070aa",
   "metadata": {},
   "outputs": [],
   "source": [
    "dogs = dogs.drop(columns=[\"NUTS1\", \"NUTS2\", \"NUTS3\", \"SUB_DISTRICT_CODE\", \"Postal_CODE\", \"Ref_Date\"])\n",
    "dogs.head()"
   ]
  },
  {
   "cell_type": "code",
   "execution_count": null,
   "id": "c26ec556",
   "metadata": {},
   "outputs": [],
   "source": [
    "dogs[\"Breed_single\"] = dogs[\"Dog Breed\"].str.split(\"/\").str[0].str.strip()\n",
    "dogs[\"Breed_single\"].unique()"
   ]
  },
  {
   "cell_type": "code",
   "execution_count": null,
   "id": "4f85d871",
   "metadata": {},
   "outputs": [],
   "source": [
    "dogs_grouped = dogs.groupby([\"DISTRICT_CODE\", \"Breed_single\"])[\"Anzahl\"].sum().reset_index()\n",
    "\n",
    "# breeds = dogs_grouped.groupby(\"Breed_single\", as_index = False).sum()\n",
    "# breeds[\"Breed_single\"].to_csv('dog_breed_german_names.csv', index = False)"
   ]
  },
  {
   "cell_type": "code",
   "execution_count": null,
   "id": "189f09dc",
   "metadata": {},
   "outputs": [],
   "source": [
    "population_density = population_density[population_density[\"REF_YEAR\"] == 2012]\n",
    "population_density = population_density.loc[:, ~population_density.columns.str.contains(\"^Unnamed\")]\n",
    "population_density = population_density.drop(columns=[\"NUTS\", \"SUB_DISTRICT_CODE\", \"REF_YEAR\", \"REF_DATE\"])\n",
    "population_density.head()\n"
   ]
  },
  {
   "cell_type": "code",
   "execution_count": null,
   "id": "b0ffa5ea",
   "metadata": {},
   "outputs": [],
   "source": [
    "population.head()"
   ]
  },
  {
   "cell_type": "code",
   "execution_count": null,
   "id": "50817073",
   "metadata": {},
   "outputs": [],
   "source": [
    "# 1. Filter by year\n",
    "df = population[population[\"REF_YEAR\"] == 2012].copy()\n",
    "\n",
    "# 2. Drop sex\n",
    "df = df.drop(columns=[\"SEX\"])\n",
    "\n",
    "# 3. Group by region/date/age and sum over populations\n",
    "grouped = df.groupby(\n",
    "    [\"NUTS\", \"DISTRICT_CODE\", \"SUB_DISTRICT_CODE\", \"REF_YEAR\", \"REF_DATE\", \"AGE5\"]\n",
    ").sum().reset_index()\n",
    "\n",
    "# 4. Total population per row (all groups)\n",
    "grouped[\"TOTAL\"] = grouped[[\"AUT\", \"EEA\", \"REU\", \"TCN\"]].sum(axis=1)\n",
    "\n",
    "# 5. Weighted average age per region/date\n",
    "def weighted_avg_age(group):\n",
    "    return (group[\"AGE5\"] * group[\"TOTAL\"] * 5).sum() / group[\"TOTAL\"].sum()\n",
    "\n",
    "avg_age = grouped.groupby(\n",
    "    [\"NUTS\", \"DISTRICT_CODE\", \"SUB_DISTRICT_CODE\", \"REF_YEAR\", \"REF_DATE\"]\n",
    ").apply(weighted_avg_age).reset_index(name=\"AVG_AGE\")\n",
    "\n",
    "# 6. AUT share vs. others\n",
    "def aut_share(group):\n",
    "    aut = group[\"AUT\"].sum()\n",
    "    others = group[[\"EEA\", \"REU\", \"TCN\"]].sum().sum()\n",
    "    return aut / (aut + others)\n",
    "\n",
    "aut_ratio = grouped.groupby(\n",
    "    [\"NUTS\", \"DISTRICT_CODE\", \"SUB_DISTRICT_CODE\", \"REF_YEAR\", \"REF_DATE\"]\n",
    ").apply(aut_share).reset_index(name=\"AUT_RATIO\")\n",
    "\n",
    "# 7. Merge results\n",
    "population_reshape = avg_age.merge(aut_ratio, on=[\"NUTS\", \"DISTRICT_CODE\", \"SUB_DISTRICT_CODE\", \"REF_YEAR\", \"REF_DATE\"])\n",
    "population_reshape = population_reshape.drop(columns=[\"NUTS\", \"SUB_DISTRICT_CODE\", \"REF_YEAR\", \"REF_DATE\"])\n",
    "population_reshape\n"
   ]
  },
  {
   "cell_type": "code",
   "execution_count": null,
   "id": "9eb23f77",
   "metadata": {},
   "outputs": [],
   "source": [
    "dogs_pop = dogs_grouped.merge(population_density).merge(population_reshape)"
   ]
  },
  {
   "cell_type": "code",
   "execution_count": null,
   "id": "c192f691",
   "metadata": {},
   "outputs": [],
   "source": [
    "full_breeds = breeds_mapping.merge(dog_breeds, left_on=[\"English name\"], right_on=[\"Breed Name\"], how='left')\n",
    "full_breeds2 = breeds_mapping.merge(dog_breeds, left_on=[\"English name\"], right_on=[\"Breed Name\"], how='outer')\n",
    "# full_breeds2.to_csv('breed_info.csv', index = False)"
   ]
  },
  {
   "cell_type": "code",
   "execution_count": null,
   "id": "62beb634",
   "metadata": {},
   "outputs": [],
   "source": [
    "dogs_pop_breed = dogs_pop.merge(full_breeds, left_on=[\"Breed_single\"], right_on=[\"German Breed\"], how='left')"
   ]
  },
  {
   "cell_type": "code",
   "execution_count": null,
   "id": "2d8281ab",
   "metadata": {},
   "outputs": [],
   "source": [
    "\n",
    "dogs_pop_breed\n",
    "dogs_pop_breed['POP_DENSITY'] = dogs_pop_breed['POP_DENSITY'].str.replace(',', '.').astype('float64')\n",
    "dogs_pop_breed['POP_VALUE'] = dogs_pop_breed['POP_VALUE'].str.replace(',', '.').astype('float64')\n",
    "dogs_pop_breed['AREA'] = dogs_pop_breed['AREA'].str.replace(',', '.').astype('float64')\n",
    "dogs_pop_breed['AVG_AGE'] = dogs_pop_breed['AVG_AGE'].round(1)\n",
    "dogs_pop_breed['AUT_RATIO'] = dogs_pop_breed['AUT_RATIO'].round(3)"
   ]
  },
  {
   "cell_type": "code",
   "execution_count": null,
   "id": "9e3edec0",
   "metadata": {},
   "outputs": [],
   "source": [
    "dogs_pop_breed_der = dogs_pop_breed.assign(DOG_DENSITY=lambda x: x['Anzahl'] / x['POP_VALUE'])\n",
    "dogs_pop_breed_der['DOG_DENSITY'] = dogs_pop_breed_der['DOG_DENSITY'].round(2)"
   ]
  },
  {
   "cell_type": "code",
   "execution_count": null,
   "id": "3d1f4023",
   "metadata": {},
   "outputs": [],
   "source": [
    "print(dogs_pop_breed_der.columns)"
   ]
  },
  {
   "cell_type": "code",
   "execution_count": null,
   "id": "d9c0c27a",
   "metadata": {},
   "outputs": [],
   "source": [
    "dogs_pop_breed_der = dogs_pop_breed_der.rename(columns={\n",
    "    \"DISTRICT_CODE\": \"district_code\",\n",
    "    \"English name\": \"dog_breed\",\n",
    "    \"Dog Breed Group\": \"dog_breed_group\",\n",
    "    \"Anzahl\": \"dog_count\",\n",
    "    \"POP_VALUE\": \"population\",\n",
    "    \"POP_DENSITY\": \"population_density\",\n",
    "    \"AREA\": \"area_km2\",\n",
    "    \"AVG_AGE\": \"avg_age\",\n",
    "    \"Dog Size\": \"dog_size\",\n",
    "    \"Adaptability\": \"adaptability\",\n",
    "    \"All Around Friendliness\": \"friendliness\",\n",
    "    \"Health And Grooming Needs\": \"health_needs\",\n",
    "    \"Trainability\": \"trainability\",\n",
    "    \"Exercise Needs\": \"exercise_needs\",\n",
    "    \"DOG_DENSITY\": \"dog_density\"\n",
    "})\n",
    "\n",
    "dogs_pop_breed_der = dogs_pop_breed_der.groupby([\"district_code\", \"dog_breed\"]).agg({\n",
    "    \"dog_breed_group\": \"first\",\n",
    "    \"dog_count\": \"sum\",\n",
    "    \"population\": \"first\",\n",
    "    \"population_density\": \"first\",\n",
    "    \"area_km2\": \"first\",\n",
    "    \"avg_age\": \"first\",\n",
    "    \"dog_size\": \"first\",\n",
    "    \"adaptability\": \"first\",\n",
    "    \"friendliness\": \"first\",\n",
    "    \"health_needs\": \"first\",\n",
    "    \"trainability\": \"first\",\n",
    "    \"exercise_needs\": \"first\",\n",
    "    \"dog_density\": \"sum\"\n",
    "}).reset_index()\n"
   ]
  },
  {
   "cell_type": "code",
   "execution_count": null,
   "id": "c09f3f5f",
   "metadata": {},
   "outputs": [],
   "source": [
    "dogs_clean = dogs_pop_breed_der[[\n",
    "    \"district_code\",\n",
    "    \"dog_breed\",\n",
    "    \"dog_breed_group\",\n",
    "    \"dog_count\",\n",
    "    \"population\",\n",
    "    \"population_density\",\n",
    "    \"area_km2\",\n",
    "    \"avg_age\",\n",
    "    \"dog_size\",\n",
    "    \"adaptability\",\n",
    "    \"friendliness\",\n",
    "    \"health_needs\",\n",
    "    \"trainability\",\n",
    "    \"exercise_needs\",\n",
    "    \"dog_density\"\n",
    "]]\n"
   ]
  },
  {
   "cell_type": "code",
   "execution_count": null,
   "id": "99fd75cb",
   "metadata": {},
   "outputs": [],
   "source": [
    "dogs_clean"
   ]
  },
  {
   "cell_type": "code",
   "execution_count": null,
   "id": "c3b919e4",
   "metadata": {},
   "outputs": [],
   "source": [
    "dogs_clean.to_csv('dogs_in_vienna.csv', index = False)"
   ]
  },
  {
   "cell_type": "code",
   "execution_count": null,
   "id": "e013173b",
   "metadata": {},
   "outputs": [],
   "source": [
    "dogs_clean[dogs_clean[\"dog_breed_group\"].isnull()].groupby(\"dog_breed\").sum(\"dog_count\").sort_values(by=\"dog_count\", ascending=False)"
   ]
  }
 ],
 "metadata": {
  "kernelspec": {
   "display_name": "Python 3",
   "language": "python",
   "name": "python3"
  },
  "language_info": {
   "codemirror_mode": {
    "name": "ipython",
    "version": 3
   },
   "file_extension": ".py",
   "mimetype": "text/x-python",
   "name": "python",
   "nbconvert_exporter": "python",
   "pygments_lexer": "ipython3",
   "version": "3.10.12"
  }
 },
 "nbformat": 4,
 "nbformat_minor": 5
}
